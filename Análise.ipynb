{
 "cells": [
  {
   "cell_type": "code",
   "execution_count": 1,
   "metadata": {},
   "outputs": [
    {
     "name": "stdout",
     "output_type": "stream",
     "text": [
      "Hello World\n"
     ]
    }
   ],
   "source": [
    "print('Hello World')"
   ]
  },
  {
   "cell_type": "code",
   "execution_count": 1,
   "metadata": {},
   "outputs": [
    {
     "ename": "IndentationError",
     "evalue": "expected an indented block (<ipython-input-1-e590de94d615>, line 5)",
     "output_type": "error",
     "traceback": [
      "\u001b[1;36m  File \u001b[1;32m\"<ipython-input-1-e590de94d615>\"\u001b[1;36m, line \u001b[1;32m5\u001b[0m\n\u001b[1;33m    print line[1] # print a primeira célula da linha\u001b[0m\n\u001b[1;37m        ^\u001b[0m\n\u001b[1;31mIndentationError\u001b[0m\u001b[1;31m:\u001b[0m expected an indented block\n"
     ]
    }
   ],
   "source": [
    "from openpyxl import load_workbook\n",
    "wb = load_workbook('suicidio.xlsx') # abrindo o Workbook test.xlsx\n",
    "ws = wb['taxas'] # selecionando a planilha 'Plan1' dentro do Workbook test.xlsx\n",
    "for line in ws:  # iterando em todas as linhas da 'Plan1'\n",
    "print line[1] # print a primeira célula da linha"
   ]
  },
  {
   "cell_type": "code",
   "execution_count": 2,
   "metadata": {},
   "outputs": [],
   "source": [
    "import pandas as pd\n",
    "pd.options.display.max_columns = None"
   ]
  },
  {
   "cell_type": "code",
   "execution_count": 3,
   "metadata": {},
   "outputs": [],
   "source": [
    "df_tcu = pd.read_csv('suicidio.csv', encoding = \"ISO-8859-1\") "
   ]
  },
  {
   "cell_type": "code",
   "execution_count": 4,
   "metadata": {},
   "outputs": [],
   "source": [
    "import pandas as pd\n",
    "import matplotlib\n",
    "from matplotlib import pyplot as plt"
   ]
  },
  {
   "cell_type": "code",
   "execution_count": 5,
   "metadata": {},
   "outputs": [
    {
     "data": {
      "text/plain": [
       "(2, 8)"
      ]
     },
     "execution_count": 5,
     "metadata": {},
     "output_type": "execute_result"
    }
   ],
   "source": [
    "df_tcu.shape"
   ]
  },
  {
   "cell_type": "code",
   "execution_count": 6,
   "metadata": {},
   "outputs": [
    {
     "data": {
      "text/html": [
       "<div>\n",
       "<style scoped>\n",
       "    .dataframe tbody tr th:only-of-type {\n",
       "        vertical-align: middle;\n",
       "    }\n",
       "\n",
       "    .dataframe tbody tr th {\n",
       "        vertical-align: top;\n",
       "    }\n",
       "\n",
       "    .dataframe thead th {\n",
       "        text-align: right;\n",
       "    }\n",
       "</style>\n",
       "<table border=\"1\" class=\"dataframe\">\n",
       "  <thead>\n",
       "    <tr style=\"text-align: right;\">\n",
       "      <th></th>\n",
       "      <th>2011</th>\n",
       "      <th>2012</th>\n",
       "      <th>2013</th>\n",
       "      <th>2014</th>\n",
       "      <th>2015</th>\n",
       "      <th>2016</th>\n",
       "      <th>2017</th>\n",
       "      <th>2018</th>\n",
       "    </tr>\n",
       "  </thead>\n",
       "  <tbody>\n",
       "    <tr>\n",
       "      <th>0</th>\n",
       "      <td>10490</td>\n",
       "      <td>10229</td>\n",
       "      <td>11821</td>\n",
       "      <td>8158</td>\n",
       "      <td>11178</td>\n",
       "      <td>11433</td>\n",
       "      <td>11178</td>\n",
       "      <td>11425</td>\n",
       "    </tr>\n",
       "    <tr>\n",
       "      <th>1</th>\n",
       "      <td>4.700.000</td>\n",
       "      <td>7.400.000</td>\n",
       "      <td>7.100.000</td>\n",
       "      <td>6.800.000</td>\n",
       "      <td>8.500.000</td>\n",
       "      <td>11.500.000</td>\n",
       "      <td>12.700.000</td>\n",
       "      <td>12.300.000</td>\n",
       "    </tr>\n",
       "  </tbody>\n",
       "</table>\n",
       "</div>"
      ],
      "text/plain": [
       "        2011       2012       2013       2014       2015        2016  \\\n",
       "0      10490      10229      11821       8158      11178       11433   \n",
       "1  4.700.000  7.400.000  7.100.000  6.800.000  8.500.000  11.500.000   \n",
       "\n",
       "         2017        2018  \n",
       "0       11178       11425  \n",
       "1  12.700.000  12.300.000  "
      ]
     },
     "execution_count": 6,
     "metadata": {},
     "output_type": "execute_result"
    }
   ],
   "source": [
    "df_tcu.head()"
   ]
  },
  {
   "cell_type": "code",
   "execution_count": 31,
   "metadata": {},
   "outputs": [
    {
     "data": {
      "image/png": "[encoded data removed]",
      "text/plain": [
       "<Figure size 648x216 with 1 Axes>"
      ]
     },
     "metadata": {
      "needs_background": "light"
     },
     "output_type": "display_data"
    }
   ],
   "source": [
    "anos = ['2011','2012','2013','2014','2015','2016','2017','2018']\n",
    "taxas = [10490,10229,11821,8158,11128,11433,11178,11425]\n",
    "plt.figure(figsize=(9, 3))\n",
    "plt.title(\"Taxa de Suicídio no Brasil\")\n",
    "plt.plot(anos,taxas)\n",
    "plt.show()"
   ]
  },
  {
   "cell_type": "code",
   "execution_count": null,
   "metadata": {},
   "outputs": [],
   "source": []
  },
  {
   "cell_type": "code",
   "execution_count": 30,
   "metadata": {},
   "outputs": [
    {
     "data": {
      "image/png": "[encoded data removed]",
      "text/plain": [
       "<Figure size 648x216 with 1 Axes>"
      ]
     },
     "metadata": {
      "needs_background": "light"
     },
     "output_type": "display_data"
    }
   ],
   "source": [
    "anos = ['2011','2012','2013','2014','2015','2016','2017','2018']\n",
    "desempregados = [4700000,7400000,7100000,6800000,8500000,11500000,12700000,12300000]\n",
    "plt.figure(figsize=(9, 3))\n",
    "plt.title(\"Desemprego no Brasil\")\n",
    "plt.plot(anos,desempregados)\n",
    "plt.show()"
   ]
  },
  {
   "cell_type": "code",
   "execution_count": 35,
   "metadata": {},
   "outputs": [
    {
     "data": {
      "image/png": "[encoded data removed]",
      "text/plain": [
       "<Figure size 648x216 with 1 Axes>"
      ]
     },
     "metadata": {
      "needs_background": "light"
     },
     "output_type": "display_data"
    }
   ],
   "source": [
    "names = ['2011','2012','2013','2014','2015','2016','2017','2018']\n",
    "values = [10490,10229,11821,8158,11128,11433,11178,11650]\n",
    "values1 = [4700000,7400000,7100000,6800000,8500000,11500000,12700000,12300000]\n",
    "plt.figure(figsize=(9, 3))\n",
    "plt.bar(names, values)\n",
    "#plt.bar(names, values1)\n",
    "plt.show()"
   ]
  },
  {
   "cell_type": "code",
   "execution_count": null,
   "metadata": {},
   "outputs": [],
   "source": [
    "#As taxas de sucídio no Brasil teve um sensível crescimento proporcional as taxas de crescimento no Brasil \n",
    "#Onde há o risco do status do desarmamento ser derrubado, as restrições de armas de fogo podem contribuir a \n",
    "#prevenção do suícidio  "
   ]
  }
 ],
 "metadata": {
  "kernelspec": {
   "display_name": "Python 3",
   "language": "python",
   "name": "python3"
  },
  "language_info": {
   "codemirror_mode": {
    "name": "ipython",
    "version": 3
   },
   "file_extension": ".py",
   "mimetype": "text/x-python",
   "name": "python",
   "nbconvert_exporter": "python",
   "pygments_lexer": "ipython3",
   "version": "3.7.3"
  }
 },
 "nbformat": 4,
 "nbformat_minor": 2
}
